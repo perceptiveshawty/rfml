{
 "cells": [
  {
   "cell_type": "code",
   "execution_count": 12,
   "metadata": {},
   "outputs": [],
   "source": [
    "from pathlib import Path\n",
    "import struct\n",
    "import pandas as pd\n",
    "import numpy as np\n",
    "\n",
    "root = Path('~/datasets/CSPB.ML.2018R2')\n",
    "data_dir = root / 'raw'\n",
    "path_to_labels = root / 'labels.txt'\n"
   ]
  },
  {
   "cell_type": "code",
   "execution_count": 13,
   "metadata": {},
   "outputs": [
    {
     "ename": "FileNotFoundError",
     "evalue": "[Errno 2] No such file or directory: '$HOME/datasets/CSPB.ML.2018R2/raw/signal_1.tim'",
     "output_type": "error",
     "traceback": [
      "\u001b[0;31m---------------------------------------------------------------------------\u001b[0m",
      "\u001b[0;31mFileNotFoundError\u001b[0m                         Traceback (most recent call last)",
      "Cell \u001b[0;32mIn[13], line 1\u001b[0m\n\u001b[0;32m----> 1\u001b[0m \u001b[38;5;28;01mwith\u001b[39;00m \u001b[38;5;28;43mopen\u001b[39;49m\u001b[43m(\u001b[49m\u001b[43mdata_dir\u001b[49m\u001b[43m \u001b[49m\u001b[38;5;241;43m/\u001b[39;49m\u001b[43m \u001b[49m\u001b[38;5;124;43m'\u001b[39;49m\u001b[38;5;124;43msignal_1.tim\u001b[39;49m\u001b[38;5;124;43m'\u001b[39;49m\u001b[43m,\u001b[49m\u001b[43m \u001b[49m\u001b[38;5;124;43m'\u001b[39;49m\u001b[38;5;124;43mrb\u001b[39;49m\u001b[38;5;124;43m'\u001b[39;49m\u001b[43m)\u001b[49m \u001b[38;5;28;01mas\u001b[39;00m f:\n\u001b[1;32m      2\u001b[0m     flag, N \u001b[38;5;241m=\u001b[39m struct\u001b[38;5;241m.\u001b[39munpack(\u001b[38;5;124m'\u001b[39m\u001b[38;5;124m<2i\u001b[39m\u001b[38;5;124m'\u001b[39m, f\u001b[38;5;241m.\u001b[39mread(\u001b[38;5;241m8\u001b[39m))\n\u001b[1;32m      3\u001b[0m     data \u001b[38;5;241m=\u001b[39m np\u001b[38;5;241m.\u001b[39mfrombuffer(f\u001b[38;5;241m.\u001b[39mread(), dtype \u001b[38;5;241m=\u001b[39m np\u001b[38;5;241m.\u001b[39mfloat32 \u001b[38;5;28;01mif\u001b[39;00m flag \u001b[38;5;241m==\u001b[39m \u001b[38;5;241m1\u001b[39m \u001b[38;5;28;01melse\u001b[39;00m np\u001b[38;5;241m.\u001b[39mcomplex64)\n",
      "File \u001b[0;32m~/miniconda3/envs/rfml/lib/python3.12/site-packages/IPython/core/interactiveshell.py:324\u001b[0m, in \u001b[0;36m_modified_open\u001b[0;34m(file, *args, **kwargs)\u001b[0m\n\u001b[1;32m    317\u001b[0m \u001b[38;5;28;01mif\u001b[39;00m file \u001b[38;5;129;01min\u001b[39;00m {\u001b[38;5;241m0\u001b[39m, \u001b[38;5;241m1\u001b[39m, \u001b[38;5;241m2\u001b[39m}:\n\u001b[1;32m    318\u001b[0m     \u001b[38;5;28;01mraise\u001b[39;00m \u001b[38;5;167;01mValueError\u001b[39;00m(\n\u001b[1;32m    319\u001b[0m         \u001b[38;5;124mf\u001b[39m\u001b[38;5;124m\"\u001b[39m\u001b[38;5;124mIPython won\u001b[39m\u001b[38;5;124m'\u001b[39m\u001b[38;5;124mt let you open fd=\u001b[39m\u001b[38;5;132;01m{\u001b[39;00mfile\u001b[38;5;132;01m}\u001b[39;00m\u001b[38;5;124m by default \u001b[39m\u001b[38;5;124m\"\u001b[39m\n\u001b[1;32m    320\u001b[0m         \u001b[38;5;124m\"\u001b[39m\u001b[38;5;124mas it is likely to crash IPython. If you know what you are doing, \u001b[39m\u001b[38;5;124m\"\u001b[39m\n\u001b[1;32m    321\u001b[0m         \u001b[38;5;124m\"\u001b[39m\u001b[38;5;124myou can use builtins\u001b[39m\u001b[38;5;124m'\u001b[39m\u001b[38;5;124m open.\u001b[39m\u001b[38;5;124m\"\u001b[39m\n\u001b[1;32m    322\u001b[0m     )\n\u001b[0;32m--> 324\u001b[0m \u001b[38;5;28;01mreturn\u001b[39;00m \u001b[43mio_open\u001b[49m\u001b[43m(\u001b[49m\u001b[43mfile\u001b[49m\u001b[43m,\u001b[49m\u001b[43m \u001b[49m\u001b[38;5;241;43m*\u001b[39;49m\u001b[43margs\u001b[49m\u001b[43m,\u001b[49m\u001b[43m \u001b[49m\u001b[38;5;241;43m*\u001b[39;49m\u001b[38;5;241;43m*\u001b[39;49m\u001b[43mkwargs\u001b[49m\u001b[43m)\u001b[49m\n",
      "\u001b[0;31mFileNotFoundError\u001b[0m: [Errno 2] No such file or directory: '$HOME/datasets/CSPB.ML.2018R2/raw/signal_1.tim'"
     ]
    }
   ],
   "source": [
    "with open(data_dir / 'signal_1.tim', 'rb') as f:\n",
    "    flag, N = struct.unpack('<2i', f.read(8))\n",
    "    data = np.frombuffer(f.read(), dtype = np.float32 if flag == 1 else np.complex64)"
   ]
  },
  {
   "cell_type": "code",
   "execution_count": null,
   "metadata": {},
   "outputs": [
    {
     "data": {
      "text/html": [
       "<div>\n",
       "<style scoped>\n",
       "    .dataframe tbody tr th:only-of-type {\n",
       "        vertical-align: middle;\n",
       "    }\n",
       "\n",
       "    .dataframe tbody tr th {\n",
       "        vertical-align: top;\n",
       "    }\n",
       "\n",
       "    .dataframe thead th {\n",
       "        text-align: right;\n",
       "    }\n",
       "</style>\n",
       "<table border=\"1\" class=\"dataframe\">\n",
       "  <thead>\n",
       "    <tr style=\"text-align: right;\">\n",
       "      <th></th>\n",
       "      <th>mod_type</th>\n",
       "      <th>carrier_offset</th>\n",
       "      <th>excess_bw</th>\n",
       "      <th>snr</th>\n",
       "      <th>symbol_rate</th>\n",
       "    </tr>\n",
       "    <tr>\n",
       "      <th>index</th>\n",
       "      <th></th>\n",
       "      <th></th>\n",
       "      <th></th>\n",
       "      <th></th>\n",
       "      <th></th>\n",
       "    </tr>\n",
       "  </thead>\n",
       "  <tbody>\n",
       "    <tr>\n",
       "      <th>1</th>\n",
       "      <td>bpsk</td>\n",
       "      <td>-0.000839</td>\n",
       "      <td>0.824908</td>\n",
       "      <td>1.067359</td>\n",
       "      <td>0.428571</td>\n",
       "    </tr>\n",
       "    <tr>\n",
       "      <th>2</th>\n",
       "      <td>qpsk</td>\n",
       "      <td>-0.000839</td>\n",
       "      <td>0.824908</td>\n",
       "      <td>1.067359</td>\n",
       "      <td>0.428571</td>\n",
       "    </tr>\n",
       "    <tr>\n",
       "      <th>3</th>\n",
       "      <td>8psk</td>\n",
       "      <td>-0.000839</td>\n",
       "      <td>0.824908</td>\n",
       "      <td>1.067359</td>\n",
       "      <td>0.428571</td>\n",
       "    </tr>\n",
       "    <tr>\n",
       "      <th>4</th>\n",
       "      <td>dqpsk</td>\n",
       "      <td>-0.000839</td>\n",
       "      <td>0.824908</td>\n",
       "      <td>1.067359</td>\n",
       "      <td>0.428571</td>\n",
       "    </tr>\n",
       "    <tr>\n",
       "      <th>5</th>\n",
       "      <td>msk</td>\n",
       "      <td>-0.000839</td>\n",
       "      <td>0.824908</td>\n",
       "      <td>1.067359</td>\n",
       "      <td>0.428571</td>\n",
       "    </tr>\n",
       "    <tr>\n",
       "      <th>...</th>\n",
       "      <td>...</td>\n",
       "      <td>...</td>\n",
       "      <td>...</td>\n",
       "      <td>...</td>\n",
       "      <td>...</td>\n",
       "    </tr>\n",
       "    <tr>\n",
       "      <th>111996</th>\n",
       "      <td>dqpsk</td>\n",
       "      <td>-0.000046</td>\n",
       "      <td>0.564858</td>\n",
       "      <td>8.109200</td>\n",
       "      <td>0.098765</td>\n",
       "    </tr>\n",
       "    <tr>\n",
       "      <th>111997</th>\n",
       "      <td>msk</td>\n",
       "      <td>-0.000046</td>\n",
       "      <td>0.564858</td>\n",
       "      <td>8.109200</td>\n",
       "      <td>0.098765</td>\n",
       "    </tr>\n",
       "    <tr>\n",
       "      <th>111998</th>\n",
       "      <td>16qam</td>\n",
       "      <td>-0.000046</td>\n",
       "      <td>0.564858</td>\n",
       "      <td>8.109200</td>\n",
       "      <td>0.098765</td>\n",
       "    </tr>\n",
       "    <tr>\n",
       "      <th>111999</th>\n",
       "      <td>64qam</td>\n",
       "      <td>-0.000046</td>\n",
       "      <td>0.564858</td>\n",
       "      <td>8.109200</td>\n",
       "      <td>0.098765</td>\n",
       "    </tr>\n",
       "    <tr>\n",
       "      <th>112000</th>\n",
       "      <td>256qam</td>\n",
       "      <td>-0.000046</td>\n",
       "      <td>0.564858</td>\n",
       "      <td>8.109200</td>\n",
       "      <td>0.098765</td>\n",
       "    </tr>\n",
       "  </tbody>\n",
       "</table>\n",
       "<p>112000 rows × 5 columns</p>\n",
       "</div>"
      ],
      "text/plain": [
       "       mod_type  carrier_offset  excess_bw       snr  symbol_rate\n",
       "index                                                            \n",
       "1          bpsk       -0.000839   0.824908  1.067359     0.428571\n",
       "2          qpsk       -0.000839   0.824908  1.067359     0.428571\n",
       "3          8psk       -0.000839   0.824908  1.067359     0.428571\n",
       "4         dqpsk       -0.000839   0.824908  1.067359     0.428571\n",
       "5           msk       -0.000839   0.824908  1.067359     0.428571\n",
       "...         ...             ...        ...       ...          ...\n",
       "111996    dqpsk       -0.000046   0.564858  8.109200     0.098765\n",
       "111997      msk       -0.000046   0.564858  8.109200     0.098765\n",
       "111998    16qam       -0.000046   0.564858  8.109200     0.098765\n",
       "111999    64qam       -0.000046   0.564858  8.109200     0.098765\n",
       "112000   256qam       -0.000046   0.564858  8.109200     0.098765\n",
       "\n",
       "[112000 rows x 5 columns]"
      ]
     },
     "execution_count": 3,
     "metadata": {},
     "output_type": "execute_result"
    }
   ],
   "source": [
    "columns = ['index', 'mod', 'base_symbol_period', 'cfo', 'ebw', 'upsample_factor', 'downsample_factor', 'snr', 'nsd']\n",
    "df = pd.read_csv(path_to_labels, sep='\\\\s+', header=None, names=columns, index_col='index')\n",
    "\n",
    "df['symbol_rate'] = (1. / df.base_symbol_period) * (df.downsample_factor / df.upsample_factor)\n",
    "df.drop(columns=['base_symbol_period', 'upsample_factor', 'downsample_factor', 'nsd'], inplace=True)\n",
    "df"
   ]
  },
  {
   "cell_type": "code",
   "execution_count": null,
   "metadata": {},
   "outputs": [
    {
     "data": {
      "text/html": [
       "<div>\n",
       "<style scoped>\n",
       "    .dataframe tbody tr th:only-of-type {\n",
       "        vertical-align: middle;\n",
       "    }\n",
       "\n",
       "    .dataframe tbody tr th {\n",
       "        vertical-align: top;\n",
       "    }\n",
       "\n",
       "    .dataframe thead th {\n",
       "        text-align: right;\n",
       "    }\n",
       "</style>\n",
       "<table border=\"1\" class=\"dataframe\">\n",
       "  <thead>\n",
       "    <tr style=\"text-align: right;\">\n",
       "      <th></th>\n",
       "      <th>carrier_offset</th>\n",
       "      <th>excess_bw</th>\n",
       "      <th>snr</th>\n",
       "      <th>symbol_rate</th>\n",
       "    </tr>\n",
       "  </thead>\n",
       "  <tbody>\n",
       "    <tr>\n",
       "      <th>count</th>\n",
       "      <td>112000.000000</td>\n",
       "      <td>112000.000000</td>\n",
       "      <td>112000.000000</td>\n",
       "      <td>112000.000000</td>\n",
       "    </tr>\n",
       "    <tr>\n",
       "      <th>mean</th>\n",
       "      <td>-0.000003</td>\n",
       "      <td>0.552127</td>\n",
       "      <td>7.537723</td>\n",
       "      <td>0.140766</td>\n",
       "    </tr>\n",
       "    <tr>\n",
       "      <th>std</th>\n",
       "      <td>0.000576</td>\n",
       "      <td>0.260985</td>\n",
       "      <td>2.708738</td>\n",
       "      <td>0.101836</td>\n",
       "    </tr>\n",
       "    <tr>\n",
       "      <th>min</th>\n",
       "      <td>-0.001000</td>\n",
       "      <td>0.100063</td>\n",
       "      <td>0.008580</td>\n",
       "      <td>0.044444</td>\n",
       "    </tr>\n",
       "    <tr>\n",
       "      <th>25%</th>\n",
       "      <td>-0.000503</td>\n",
       "      <td>0.324655</td>\n",
       "      <td>5.784933</td>\n",
       "      <td>0.071429</td>\n",
       "    </tr>\n",
       "    <tr>\n",
       "      <th>50%</th>\n",
       "      <td>-0.000008</td>\n",
       "      <td>0.552290</td>\n",
       "      <td>8.051057</td>\n",
       "      <td>0.100000</td>\n",
       "    </tr>\n",
       "    <tr>\n",
       "      <th>75%</th>\n",
       "      <td>0.000493</td>\n",
       "      <td>0.779232</td>\n",
       "      <td>9.616349</td>\n",
       "      <td>0.166667</td>\n",
       "    </tr>\n",
       "    <tr>\n",
       "      <th>max</th>\n",
       "      <td>0.001000</td>\n",
       "      <td>0.999978</td>\n",
       "      <td>13.078203</td>\n",
       "      <td>0.500000</td>\n",
       "    </tr>\n",
       "  </tbody>\n",
       "</table>\n",
       "</div>"
      ],
      "text/plain": [
       "       carrier_offset      excess_bw            snr    symbol_rate\n",
       "count   112000.000000  112000.000000  112000.000000  112000.000000\n",
       "mean        -0.000003       0.552127       7.537723       0.140766\n",
       "std          0.000576       0.260985       2.708738       0.101836\n",
       "min         -0.001000       0.100063       0.008580       0.044444\n",
       "25%         -0.000503       0.324655       5.784933       0.071429\n",
       "50%         -0.000008       0.552290       8.051057       0.100000\n",
       "75%          0.000493       0.779232       9.616349       0.166667\n",
       "max          0.001000       0.999978      13.078203       0.500000"
      ]
     },
     "execution_count": 4,
     "metadata": {},
     "output_type": "execute_result"
    }
   ],
   "source": [
    "df.describe()"
   ]
  },
  {
   "cell_type": "code",
   "execution_count": null,
   "metadata": {},
   "outputs": [
    {
     "data": {
      "image/png": "[encoded data removed]",
      "text/plain": [
       "<Figure size 1600x400 with 1 Axes>"
      ]
     },
     "metadata": {},
     "output_type": "display_data"
    }
   ],
   "source": [
    "df.hist(column='symbol_rate', bins=56, figsize=(16, 4))"
   ]
  },
  {
   "cell_type": "code",
   "execution_count": null,
   "metadata": {},
   "outputs": [
    {
     "data": {
      "text/plain": [
       "array([[<Axes: title={'center': 'carrier_offset'}>]], dtype=object)"
      ]
     },
     "execution_count": 6,
     "metadata": {},
     "output_type": "execute_result"
    },
    {
     "data": {
      "image/png": "[encoded data removed]",
      "text/plain": [
       "<Figure size 1600x400 with 1 Axes>"
      ]
     },
     "metadata": {},
     "output_type": "display_data"
    }
   ],
   "source": [
    "df.hist(column='cfo', bins=56, figsize=(16, 4))"
   ]
  },
  {
   "cell_type": "code",
   "execution_count": null,
   "metadata": {},
   "outputs": [
    {
     "data": {
      "text/plain": [
       "array([[<Axes: title={'center': 'snr'}>]], dtype=object)"
      ]
     },
     "execution_count": 7,
     "metadata": {},
     "output_type": "execute_result"
    },
    {
     "data": {
      "image/png": "[encoded data removed]",
      "text/plain": [
       "<Figure size 1600x400 with 1 Axes>"
      ]
     },
     "metadata": {},
     "output_type": "display_data"
    }
   ],
   "source": [
    "df.hist(column='snr', bins=56, figsize=(16, 4))"
   ]
  }
 ],
 "metadata": {
  "kernelspec": {
   "display_name": "rfml",
   "language": "python",
   "name": "python3"
  },
  "language_info": {
   "codemirror_mode": {
    "name": "ipython",
    "version": 3
   },
   "file_extension": ".py",
   "mimetype": "text/x-python",
   "name": "python",
   "nbconvert_exporter": "python",
   "pygments_lexer": "ipython3",
   "version": "3.12.2"
  }
 },
 "nbformat": 4,
 "nbformat_minor": 2
}
